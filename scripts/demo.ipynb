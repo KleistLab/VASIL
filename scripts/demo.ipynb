{
 "cells": [
  {
   "cell_type": "code",
   "execution_count": 4,
   "id": "778795dc",
   "metadata": {},
   "outputs": [
    {
     "ename": "ImportError",
     "evalue": "attempted relative import with no known parent package",
     "output_type": "error",
     "traceback": [
      "\u001b[0;31m---------------------------------------------------------------------------\u001b[0m",
      "\u001b[0;31mImportError\u001b[0m                               Traceback (most recent call last)",
      "Cell \u001b[0;32mIn[4], line 1\u001b[0m\n\u001b[0;32m----> 1\u001b[0m \u001b[38;5;28;01mfrom\u001b[39;00m \u001b[38;5;21;01m.\u001b[39;00m\u001b[38;5;21;01mscripts\u001b[39;00m\u001b[38;5;21;01m.\u001b[39;00m\u001b[38;5;21;01mExpected_immunized\u001b[39;00m\u001b[38;5;21;01m.\u001b[39;00m\u001b[38;5;21;01mutil\u001b[39;00m \u001b[38;5;28;01mimport\u001b[39;00m Escape_Fraction, Ab_classes, Antibody_ranges\n\u001b[1;32m      2\u001b[0m \u001b[38;5;28;01mimport\u001b[39;00m \u001b[38;5;21;01mre\u001b[39;00m\n\u001b[1;32m      4\u001b[0m \u001b[38;5;124;03m\"\"\"Compute Antibody concentration over time for a range of t_half and t_max\"\"\"\u001b[39;00m\n",
      "\u001b[0;31mImportError\u001b[0m: attempted relative import with no known parent package"
     ]
    }
   ],
   "source": [
    "from .scripts.Expected_immunized.util import Escape_Fraction, Ab_classes, Antibody_ranges\n",
    "import re\n",
    "\n",
    "\"\"\"Compute Antibody concentration over time for a range of t_half and t_max\"\"\"\n",
    "thalf_vec = np.linspace(25, 69, 15) \n",
    "tmax_vec = np.linspace(14, 28, 5)\n",
    "c_t_vec, c_dframe_dic, dataname = Antibody_ranges(thalf_vec, tmax_vec, t, Ab_classes)\n",
    "\n",
    "\"\"\"Save Dynamics: The Antibody PK is assumed to be the same for all Epitope Classes\"\"\"\n",
    "PK = {}\n",
    "PK[\"Day since activation\"] = t\n",
    "for key in c_dframe_dic.keys():\n",
    "    key_num = np.array(re.findall(r\"\\d+\", key)).astype(int)\n",
    "    PK[\"t_half = %.3f \\nt_max = %.3f\"%(thalf_vec[key_num[0]], tmax_vec[key_num[1]])] = c_dframe_dic[key][\"A\"]\n",
    "\n",
    "PK_df = pd.DataFrame(PK)"
   ]
  },
  {
   "cell_type": "code",
   "execution_count": null,
   "id": "499a98e9",
   "metadata": {},
   "outputs": [],
   "source": []
  }
 ],
 "metadata": {
  "kernelspec": {
   "display_name": "Python 3 (ipykernel)",
   "language": "python",
   "name": "python3"
  },
  "language_info": {
   "codemirror_mode": {
    "name": "ipython",
    "version": 3
   },
   "file_extension": ".py",
   "mimetype": "text/x-python",
   "name": "python",
   "nbconvert_exporter": "python",
   "pygments_lexer": "ipython3",
   "version": "3.10.12"
  }
 },
 "nbformat": 4,
 "nbformat_minor": 5
}
